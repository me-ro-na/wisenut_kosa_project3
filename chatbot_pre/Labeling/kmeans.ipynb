{
 "cells": [
  {
   "cell_type": "code",
   "execution_count": null,
   "id": "a61271d5-896d-4ea0-831f-abbfb8c01c47",
   "metadata": {},
   "outputs": [],
   "source": [
    "import numpy as np\n",
    "import pandas as pd\n",
    "import matplotlib.pylab as plt\n",
    "import seaborn as sns"
   ]
  },
  {
   "cell_type": "code",
   "execution_count": null,
   "id": "ce6c17d7-a759-421e-9913-9948474a8b38",
   "metadata": {},
   "outputs": [],
   "source": [
    "plt.rc('font', family='gulim')"
   ]
  },
  {
   "cell_type": "code",
   "execution_count": null,
   "id": "4816b96a-a7f3-4ddd-803b-d1a4711b079e",
   "metadata": {},
   "outputs": [],
   "source": []
  },
  {
   "cell_type": "code",
   "execution_count": null,
   "id": "e3532e29-6360-411a-9bd0-8d11fea0ce9a",
   "metadata": {},
   "outputs": [],
   "source": [
    "train = pd.read_csv('split_sen.csv')"
   ]
  },
  {
   "cell_type": "code",
   "execution_count": null,
   "id": "b0b2eab3-c475-4974-bbd8-d39959b16229",
   "metadata": {},
   "outputs": [],
   "source": [
    "train"
   ]
  },
  {
   "cell_type": "code",
   "execution_count": null,
   "id": "7a083803-2ec8-4428-8018-917b602bb1cb",
   "metadata": {},
   "outputs": [],
   "source": [
    "def remove_punct(_df, col):\n",
    "    _df[col] = _df[col].str.replace('[^a-zA-Z가-힣0-9\\s]', '', regex=True)\n",
    "    _df[col] = _df[col].str.replace('^\\s+', '', regex=True)\n",
    "    _df[col] = _df[col].replace('', np.nan)\n",
    "    _df.dropna(inplace=True)"
   ]
  },
  {
   "cell_type": "code",
   "execution_count": null,
   "id": "d7e9a296-cccb-4944-98de-6e10bc77ed3c",
   "metadata": {},
   "outputs": [],
   "source": [
    "remove_punct(train, col='0')\n",
    "train.isnull().sum()"
   ]
  },
  {
   "cell_type": "code",
   "execution_count": null,
   "id": "0bd0392e-7f5d-499e-a655-5333f5cdba0b",
   "metadata": {},
   "outputs": [],
   "source": [
    "train"
   ]
  },
  {
   "cell_type": "code",
   "execution_count": null,
   "id": "36f5c033-88fc-4433-8d7c-b4310292c7b2",
   "metadata": {},
   "outputs": [],
   "source": [
    "df_stopwords = pd.read_csv('stopword_ko.txt', header=None)\n",
    "stop_words = df_stopwords[0].tolist()\n"
   ]
  },
  {
   "cell_type": "code",
   "execution_count": null,
   "id": "7bca5176-a1db-4604-a413-fb958d1f422b",
   "metadata": {},
   "outputs": [],
   "source": [
    "from konlpy.tag import Okt\n",
    "okt = Okt()"
   ]
  },
  {
   "cell_type": "code",
   "execution_count": null,
   "id": "960de647-fba5-48a6-99eb-4f5418b0b9cc",
   "metadata": {},
   "outputs": [],
   "source": [
    "def tokenizer(_words):\n",
    "    words = okt.pos(_words, stem=True)\n",
    "    return [w for w, p in words if w not in stop_words]"
   ]
  },
  {
   "cell_type": "code",
   "execution_count": null,
   "id": "f89414c1-72ee-4b59-83de-e6f76d57048f",
   "metadata": {},
   "outputs": [],
   "source": [
    "X_train = [tokenizer(sten) for sten in train['0']]\n",
    "X_train[:5]"
   ]
  },
  {
   "cell_type": "code",
   "execution_count": null,
   "id": "c44036b9-f29f-4a03-bb69-4348b509ebdb",
   "metadata": {},
   "outputs": [],
   "source": []
  },
  {
   "cell_type": "markdown",
   "id": "2d6f4211-3f51-48ce-a515-b38ef1aa40ac",
   "metadata": {},
   "source": [
    "# GloVe모델"
   ]
  },
  {
   "cell_type": "code",
   "execution_count": null,
   "id": "23db44e2-1000-4d91-b107-37ad08e5f278",
   "metadata": {},
   "outputs": [],
   "source": [
    "from glove import Corpus, Glove"
   ]
  },
  {
   "cell_type": "code",
   "execution_count": null,
   "id": "543b681e-a14e-4f69-9971-a503bdbfe63a",
   "metadata": {},
   "outputs": [],
   "source": [
    "# !pip install glove_python_binary"
   ]
  },
  {
   "cell_type": "code",
   "execution_count": null,
   "id": "d20e0a63-004f-40fa-978b-49befe634346",
   "metadata": {},
   "outputs": [],
   "source": [
    "# corpus 생성\n",
    "corpus = Corpus()\n",
    "corpus.fit(X_train, window=20)"
   ]
  },
  {
   "cell_type": "code",
   "execution_count": null,
   "id": "af7cba4c-6308-487b-8916-b90001aa14cd",
   "metadata": {},
   "outputs": [],
   "source": [
    "# model\n",
    "glove = Glove(no_components=128, learning_rate=0.01)     # 0.05\n",
    "%time glove.fit(corpus.matrix, epochs=50, no_threads=4, verbose=False)    # Wall time: 8min 32s\n",
    "glove.add_dictionary(corpus.dictionary)\n",
    "\n",
    "# save\n",
    "# glove.save(DATA_DIR + '/glove_w20_epoch50.model')"
   ]
  },
  {
   "cell_type": "code",
   "execution_count": null,
   "id": "2fdbe3fd-eecd-4aa9-85ea-838972c70206",
   "metadata": {},
   "outputs": [],
   "source": [
    "glove.save('glove_w20_epoch50.model')"
   ]
  },
  {
   "cell_type": "code",
   "execution_count": null,
   "id": "a98c10ca-fbb7-4e5c-bd1d-d1fe4f7f6d68",
   "metadata": {},
   "outputs": [],
   "source": []
  },
  {
   "cell_type": "code",
   "execution_count": null,
   "id": "c66f1b48-d0be-41a9-b6e7-6c8bc1af5aeb",
   "metadata": {},
   "outputs": [],
   "source": [
    "# load glove\n",
    "glove_model = Glove.load('glove_w20_epoch50.model')"
   ]
  },
  {
   "cell_type": "code",
   "execution_count": null,
   "id": "8c4f7b21-6686-4660-83b8-c4651d232860",
   "metadata": {},
   "outputs": [],
   "source": [
    "# word dict 생성\n",
    "word_dict = {}\n",
    "for word in  glove_model.dictionary.keys():\n",
    "    word_dict[word] = glove_model.word_vectors[glove_model.dictionary[word]]\n",
    "print('[Success !] Lengh of word dict... : ', len(word_dict))"
   ]
  },
  {
   "cell_type": "code",
   "execution_count": null,
   "id": "441d3044-08d6-4c45-8a72-f58eebf4617a",
   "metadata": {},
   "outputs": [],
   "source": [
    "word_dict['우울증']"
   ]
  },
  {
   "cell_type": "code",
   "execution_count": null,
   "id": "a8841f00-010a-4913-842c-79f32e869e07",
   "metadata": {},
   "outputs": [],
   "source": [
    "def sent2vec_glove(tokens, embedding_dim=128):\n",
    "    '''문장 token 리스트를 받아서 임베딩 시킨다.'''\n",
    "  \n",
    "    size = len(tokens)\n",
    "    matrix = np.zeros((size, embedding_dim))\n",
    "    word_table = word_dict     # glove word_dict\n",
    "\n",
    "    for i, token in enumerate(tokens):\n",
    "        vector = np.array([\n",
    "            word_table[t] for t in token\n",
    "            if t in word_table\n",
    "        ])\n",
    "\n",
    "        if vector.size != 0:\n",
    "            final_vector = np.mean(vector, axis=0)\n",
    "            matrix[i] = final_vector\n",
    "\n",
    "    return matrix"
   ]
  },
  {
   "cell_type": "code",
   "execution_count": null,
   "id": "46744e66-f049-4df4-936f-945f63932684",
   "metadata": {},
   "outputs": [],
   "source": [
    "# sklearn\n",
    "from sklearn.cluster import KMeans\n",
    "from sklearn.manifold import TSNE\n",
    "# 시각화\n",
    "import seaborn as sns\n",
    "import matplotlib.pyplot as plt"
   ]
  },
  {
   "cell_type": "code",
   "execution_count": null,
   "id": "ab9eaefc-ec7f-47ae-b8be-bcf93ac10a4c",
   "metadata": {},
   "outputs": [],
   "source": [
    "# 문장 임베딩\n",
    "sentence_glove = sent2vec_glove(X_train)\n",
    "sentence_glove.shape"
   ]
  },
  {
   "cell_type": "code",
   "execution_count": null,
   "id": "c1e10a3b-c72b-4392-8d88-47639dc0be1c",
   "metadata": {},
   "outputs": [],
   "source": []
  },
  {
   "cell_type": "markdown",
   "id": "bee604c5-88b3-4b54-bb61-06fe341b5c11",
   "metadata": {},
   "source": [
    "# k-means"
   ]
  },
  {
   "cell_type": "code",
   "execution_count": null,
   "id": "a51f8c8c-afa9-4593-a3a5-9f624c68f8dd",
   "metadata": {},
   "outputs": [],
   "source": [
    "from tqdm import tqdm"
   ]
  },
  {
   "cell_type": "code",
   "execution_count": null,
   "id": "72609a42-237a-410e-9df4-27e9d8a8422c",
   "metadata": {},
   "outputs": [],
   "source": [
    "# 최적의 K 찾기 : 군집 갯수 k 찾기\n",
    "from sklearn import metrics\n",
    "from scipy.spatial.distance import cdist\n",
    "\n",
    "# K=50 개의 클러스터에 대해서 시각화\n",
    "distortions = []\n",
    "K = range(2, 50)\n",
    "tqdm.pandas()\n",
    "\n",
    "for k in K:\n",
    "    k_means = KMeans(n_clusters=k, random_state=42).fit(sentence_glove)\n",
    "    k_means.fit(sentence_glove)\n",
    "    distortions.append(sum(np.min(cdist(sentence_glove, k_means.cluster_centers_, 'euclidean'), axis=1)) / sentence_glove.shape[0])\n",
    "    \n",
    "    print('Found distortion for {} clusters'.format(k))\n",
    "\n",
    "# Visualization\n",
    "X_line = [K[0], K[-1]]\n",
    "Y_line = [distortions[0], distortions[-1]]\n",
    "\n",
    "sns.set(rc={'figure.figsize':(20,20)})\n",
    "# Plot the elbow\n",
    "plt.plot(K, distortions, 'b-')\n",
    "plt.plot(X_line, Y_line, 'r')\n",
    "plt.xlabel('k')\n",
    "plt.ylabel('Distortion')\n",
    "plt.title('Optimal K')\n",
    "plt.savefig(\"Optimal_K.png\")\n",
    "plt.show()"
   ]
  },
  {
   "cell_type": "code",
   "execution_count": null,
   "id": "382bca8c-2c2d-4bb8-8c68-efa6eefc0da0",
   "metadata": {},
   "outputs": [],
   "source": [
    "# clustering\n",
    "k = 20\n",
    "kmeans = KMeans(n_clusters=k, random_state=2021)\n",
    "y_pred = kmeans.fit_predict(sentence_glove)\n",
    "\n",
    "# tsne\n",
    "tsne = TSNE(verbose=1, perplexity=100, random_state=2021)     # perplexity : 유사정도\n",
    "X_embedded = tsne.fit_transform(sentence_glove)\n",
    "print('Embedding shape 확인', X_embedded.shape)\n",
    "\n",
    "# 시각화\n",
    "sns.set(rc={'figure.figsize':(20,20)})\n",
    "# colors\n",
    "palette = sns.hls_palette(20, l=.4, s=.9) \n",
    "# plot\n",
    "sns.scatterplot(X_embedded[:,0], X_embedded[:,1], hue=y_pred,\n",
    "                legend='full',palette=palette)     # kmeans로 예측\n",
    "\n",
    "plt.title('t-SNE with KMeans Labels and Glove Embedding')\n",
    "plt.savefig(\"t-sne_question_glove_embedding.png\")\n",
    "plt.show()"
   ]
  },
  {
   "cell_type": "code",
   "execution_count": null,
   "id": "a654f007-b71a-4ab0-93c0-ce3e51813a17",
   "metadata": {},
   "outputs": [],
   "source": [
    "train['result'] = y_pred"
   ]
  },
  {
   "cell_type": "code",
   "execution_count": null,
   "id": "22df5c3c-c9c7-4343-9d1b-bd5e5c9ef5bf",
   "metadata": {},
   "outputs": [],
   "source": [
    "train"
   ]
  },
  {
   "cell_type": "code",
   "execution_count": null,
   "id": "392dc546-2193-44ae-ae62-90a7e0b5736f",
   "metadata": {},
   "outputs": [],
   "source": [
    "train.to_csv('glove-kmeans.csv', encoding = 'utf-8-sig')"
   ]
  },
  {
   "cell_type": "code",
   "execution_count": null,
   "id": "a29ad043-2605-4db3-92b7-dce1f39e337b",
   "metadata": {},
   "outputs": [],
   "source": []
  },
  {
   "cell_type": "code",
   "execution_count": null,
   "id": "baa5b2b2-230d-4f7f-ae89-ebbf3e053145",
   "metadata": {},
   "outputs": [],
   "source": []
  },
  {
   "cell_type": "code",
   "execution_count": null,
   "id": "508019ee-bde2-49e2-8f44-ec1a6b5d64a0",
   "metadata": {},
   "outputs": [],
   "source": [
    "a = train.sort_values(by='result')"
   ]
  },
  {
   "cell_type": "code",
   "execution_count": null,
   "id": "f254d04d-02f3-40c0-b3a7-2630d7b434df",
   "metadata": {},
   "outputs": [],
   "source": [
    "a.to_csv('kmeans20_result.csv', encoding = 'utf-8-sig')"
   ]
  },
  {
   "cell_type": "code",
   "execution_count": null,
   "id": "fc84fdde-d7c2-4f8d-9242-8db63de13452",
   "metadata": {},
   "outputs": [],
   "source": []
  }
 ],
 "metadata": {
  "kernelspec": {
   "display_name": "Python 3 (ipykernel)",
   "language": "python",
   "name": "python3"
  },
  "language_info": {
   "codemirror_mode": {
    "name": "ipython",
    "version": 3
   },
   "file_extension": ".py",
   "mimetype": "text/x-python",
   "name": "python",
   "nbconvert_exporter": "python",
   "pygments_lexer": "ipython3",
   "version": "3.8.12"
  }
 },
 "nbformat": 4,
 "nbformat_minor": 5
}
